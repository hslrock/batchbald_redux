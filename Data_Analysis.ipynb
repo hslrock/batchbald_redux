{
 "cells": [
  {
   "cell_type": "code",
   "execution_count": 90,
   "metadata": {},
   "outputs": [],
   "source": [
    "import pandas as pd\n",
    "import numpy as np"
   ]
  },
  {
   "cell_type": "code",
   "execution_count": 135,
   "metadata": {},
   "outputs": [],
   "source": [
    "df=pd.read_csv(\"bald_data_history.csv\", header=None).T\n",
    "df.rename(columns = {0: 'label'}, inplace = True)\n",
    "df=df.sort_values(by='label',ignore_index=True)#.reset_index()\n",
    "labels=df.label"
   ]
  },
  {
   "cell_type": "code",
   "execution_count": 136,
   "metadata": {},
   "outputs": [
    {
     "data": {
      "text/plain": [
       "0     0.0\n",
       "1     0.0\n",
       "2     0.0\n",
       "3     0.0\n",
       "4     0.0\n",
       "     ... \n",
       "95    9.0\n",
       "96    9.0\n",
       "97    9.0\n",
       "98    9.0\n",
       "99    9.0\n",
       "Name: label, Length: 100, dtype: float64"
      ]
     },
     "execution_count": 136,
     "metadata": {},
     "output_type": "execute_result"
    }
   ],
   "source": [
    "df.label"
   ]
  },
  {
   "cell_type": "code",
   "execution_count": 137,
   "metadata": {},
   "outputs": [
    {
     "data": {
      "text/html": [
       "<div>\n",
       "<style scoped>\n",
       "    .dataframe tbody tr th:only-of-type {\n",
       "        vertical-align: middle;\n",
       "    }\n",
       "\n",
       "    .dataframe tbody tr th {\n",
       "        vertical-align: top;\n",
       "    }\n",
       "\n",
       "    .dataframe thead th {\n",
       "        text-align: right;\n",
       "    }\n",
       "</style>\n",
       "<table border=\"1\" class=\"dataframe\">\n",
       "  <thead>\n",
       "    <tr style=\"text-align: right;\">\n",
       "      <th></th>\n",
       "      <th>label</th>\n",
       "      <th>1</th>\n",
       "      <th>2</th>\n",
       "      <th>3</th>\n",
       "      <th>4</th>\n",
       "      <th>5</th>\n",
       "      <th>6</th>\n",
       "      <th>7</th>\n",
       "      <th>8</th>\n",
       "      <th>9</th>\n",
       "      <th>...</th>\n",
       "      <th>87</th>\n",
       "      <th>88</th>\n",
       "      <th>89</th>\n",
       "      <th>90</th>\n",
       "      <th>91</th>\n",
       "      <th>92</th>\n",
       "      <th>93</th>\n",
       "      <th>94</th>\n",
       "      <th>95</th>\n",
       "      <th>96</th>\n",
       "    </tr>\n",
       "  </thead>\n",
       "  <tbody>\n",
       "    <tr>\n",
       "      <th>0</th>\n",
       "      <td>0.0</td>\n",
       "      <td>0.328544</td>\n",
       "      <td>0.295926</td>\n",
       "      <td>0.302368</td>\n",
       "      <td>0.306474</td>\n",
       "      <td>0.315960</td>\n",
       "      <td>0.298111</td>\n",
       "      <td>0.296955</td>\n",
       "      <td>3.722708e-01</td>\n",
       "      <td>0.314483</td>\n",
       "      <td>...</td>\n",
       "      <td>2.843932e-01</td>\n",
       "      <td>2.450952e-01</td>\n",
       "      <td>0.290023</td>\n",
       "      <td>0.258127</td>\n",
       "      <td>0.267427</td>\n",
       "      <td>2.454869e-01</td>\n",
       "      <td>0.292687</td>\n",
       "      <td>0.273316</td>\n",
       "      <td>2.835186e-01</td>\n",
       "      <td>2.663480e-01</td>\n",
       "    </tr>\n",
       "    <tr>\n",
       "      <th>1</th>\n",
       "      <td>0.0</td>\n",
       "      <td>0.524646</td>\n",
       "      <td>0.488411</td>\n",
       "      <td>0.535796</td>\n",
       "      <td>0.539319</td>\n",
       "      <td>0.546866</td>\n",
       "      <td>0.600552</td>\n",
       "      <td>0.586124</td>\n",
       "      <td>6.600894e-01</td>\n",
       "      <td>0.617452</td>\n",
       "      <td>...</td>\n",
       "      <td>5.571130e-01</td>\n",
       "      <td>5.865460e-01</td>\n",
       "      <td>0.506429</td>\n",
       "      <td>0.468700</td>\n",
       "      <td>0.532804</td>\n",
       "      <td>5.523669e-01</td>\n",
       "      <td>0.516295</td>\n",
       "      <td>0.555702</td>\n",
       "      <td>5.585313e-01</td>\n",
       "      <td>5.458970e-01</td>\n",
       "    </tr>\n",
       "    <tr>\n",
       "      <th>2</th>\n",
       "      <td>0.0</td>\n",
       "      <td>0.025632</td>\n",
       "      <td>0.021977</td>\n",
       "      <td>0.003441</td>\n",
       "      <td>0.008151</td>\n",
       "      <td>0.004893</td>\n",
       "      <td>0.000734</td>\n",
       "      <td>0.000811</td>\n",
       "      <td>7.983857e-04</td>\n",
       "      <td>0.015689</td>\n",
       "      <td>...</td>\n",
       "      <td>6.069232e-03</td>\n",
       "      <td>8.411553e-04</td>\n",
       "      <td>0.001888</td>\n",
       "      <td>0.001966</td>\n",
       "      <td>0.003625</td>\n",
       "      <td>1.583918e-03</td>\n",
       "      <td>0.001137</td>\n",
       "      <td>0.006484</td>\n",
       "      <td>1.529265e-03</td>\n",
       "      <td>7.062619e-03</td>\n",
       "    </tr>\n",
       "    <tr>\n",
       "      <th>3</th>\n",
       "      <td>0.0</td>\n",
       "      <td>0.528392</td>\n",
       "      <td>0.504189</td>\n",
       "      <td>0.549341</td>\n",
       "      <td>0.562989</td>\n",
       "      <td>0.583668</td>\n",
       "      <td>0.630132</td>\n",
       "      <td>0.629470</td>\n",
       "      <td>6.743966e-01</td>\n",
       "      <td>0.640655</td>\n",
       "      <td>...</td>\n",
       "      <td>5.814731e-01</td>\n",
       "      <td>6.037517e-01</td>\n",
       "      <td>0.513997</td>\n",
       "      <td>0.513376</td>\n",
       "      <td>0.538524</td>\n",
       "      <td>5.690116e-01</td>\n",
       "      <td>0.526544</td>\n",
       "      <td>0.603897</td>\n",
       "      <td>5.930119e-01</td>\n",
       "      <td>5.609126e-01</td>\n",
       "    </tr>\n",
       "    <tr>\n",
       "      <th>4</th>\n",
       "      <td>0.0</td>\n",
       "      <td>0.003764</td>\n",
       "      <td>0.001491</td>\n",
       "      <td>0.000020</td>\n",
       "      <td>0.000585</td>\n",
       "      <td>0.000020</td>\n",
       "      <td>0.000009</td>\n",
       "      <td>0.000037</td>\n",
       "      <td>1.798373e-07</td>\n",
       "      <td>0.000247</td>\n",
       "      <td>...</td>\n",
       "      <td>1.344911e-08</td>\n",
       "      <td>3.163619e-09</td>\n",
       "      <td>0.000004</td>\n",
       "      <td>0.000004</td>\n",
       "      <td>0.000021</td>\n",
       "      <td>2.598876e-08</td>\n",
       "      <td>0.000001</td>\n",
       "      <td>0.000082</td>\n",
       "      <td>6.886863e-07</td>\n",
       "      <td>7.353280e-07</td>\n",
       "    </tr>\n",
       "    <tr>\n",
       "      <th>...</th>\n",
       "      <td>...</td>\n",
       "      <td>...</td>\n",
       "      <td>...</td>\n",
       "      <td>...</td>\n",
       "      <td>...</td>\n",
       "      <td>...</td>\n",
       "      <td>...</td>\n",
       "      <td>...</td>\n",
       "      <td>...</td>\n",
       "      <td>...</td>\n",
       "      <td>...</td>\n",
       "      <td>...</td>\n",
       "      <td>...</td>\n",
       "      <td>...</td>\n",
       "      <td>...</td>\n",
       "      <td>...</td>\n",
       "      <td>...</td>\n",
       "      <td>...</td>\n",
       "      <td>...</td>\n",
       "      <td>...</td>\n",
       "      <td>...</td>\n",
       "    </tr>\n",
       "    <tr>\n",
       "      <th>95</th>\n",
       "      <td>9.0</td>\n",
       "      <td>0.184565</td>\n",
       "      <td>0.198283</td>\n",
       "      <td>0.158985</td>\n",
       "      <td>0.124217</td>\n",
       "      <td>0.122546</td>\n",
       "      <td>0.079935</td>\n",
       "      <td>0.102115</td>\n",
       "      <td>1.342427e-01</td>\n",
       "      <td>0.191733</td>\n",
       "      <td>...</td>\n",
       "      <td>1.758207e-01</td>\n",
       "      <td>1.180868e-01</td>\n",
       "      <td>0.105108</td>\n",
       "      <td>0.153294</td>\n",
       "      <td>0.174301</td>\n",
       "      <td>1.106032e-01</td>\n",
       "      <td>0.134059</td>\n",
       "      <td>0.167086</td>\n",
       "      <td>1.041358e-01</td>\n",
       "      <td>1.228905e-01</td>\n",
       "    </tr>\n",
       "    <tr>\n",
       "      <th>96</th>\n",
       "      <td>9.0</td>\n",
       "      <td>0.175491</td>\n",
       "      <td>0.196499</td>\n",
       "      <td>0.152277</td>\n",
       "      <td>0.118461</td>\n",
       "      <td>0.111656</td>\n",
       "      <td>0.073782</td>\n",
       "      <td>0.086580</td>\n",
       "      <td>1.287686e-01</td>\n",
       "      <td>0.188783</td>\n",
       "      <td>...</td>\n",
       "      <td>1.627890e-01</td>\n",
       "      <td>1.161351e-01</td>\n",
       "      <td>0.089024</td>\n",
       "      <td>0.145445</td>\n",
       "      <td>0.173943</td>\n",
       "      <td>1.104476e-01</td>\n",
       "      <td>0.133436</td>\n",
       "      <td>0.148423</td>\n",
       "      <td>1.008449e-01</td>\n",
       "      <td>1.208759e-01</td>\n",
       "    </tr>\n",
       "    <tr>\n",
       "      <th>97</th>\n",
       "      <td>9.0</td>\n",
       "      <td>0.165099</td>\n",
       "      <td>0.160714</td>\n",
       "      <td>0.105237</td>\n",
       "      <td>0.086932</td>\n",
       "      <td>0.075992</td>\n",
       "      <td>0.056739</td>\n",
       "      <td>0.070054</td>\n",
       "      <td>9.931240e-02</td>\n",
       "      <td>0.140003</td>\n",
       "      <td>...</td>\n",
       "      <td>1.178500e-01</td>\n",
       "      <td>1.009946e-01</td>\n",
       "      <td>0.077310</td>\n",
       "      <td>0.114840</td>\n",
       "      <td>0.149634</td>\n",
       "      <td>7.122922e-02</td>\n",
       "      <td>0.103757</td>\n",
       "      <td>0.123481</td>\n",
       "      <td>8.803814e-02</td>\n",
       "      <td>7.969730e-02</td>\n",
       "    </tr>\n",
       "    <tr>\n",
       "      <th>98</th>\n",
       "      <td>9.0</td>\n",
       "      <td>0.025971</td>\n",
       "      <td>0.022282</td>\n",
       "      <td>0.006616</td>\n",
       "      <td>0.008818</td>\n",
       "      <td>0.005033</td>\n",
       "      <td>0.000753</td>\n",
       "      <td>0.000984</td>\n",
       "      <td>1.345627e-03</td>\n",
       "      <td>0.016356</td>\n",
       "      <td>...</td>\n",
       "      <td>6.771150e-03</td>\n",
       "      <td>9.040401e-04</td>\n",
       "      <td>0.001949</td>\n",
       "      <td>0.003541</td>\n",
       "      <td>0.005286</td>\n",
       "      <td>2.457584e-03</td>\n",
       "      <td>0.001752</td>\n",
       "      <td>0.006743</td>\n",
       "      <td>3.364267e-03</td>\n",
       "      <td>7.091278e-03</td>\n",
       "    </tr>\n",
       "    <tr>\n",
       "      <th>99</th>\n",
       "      <td>9.0</td>\n",
       "      <td>1.286636</td>\n",
       "      <td>0.901896</td>\n",
       "      <td>0.873940</td>\n",
       "      <td>0.864903</td>\n",
       "      <td>0.857668</td>\n",
       "      <td>0.907252</td>\n",
       "      <td>0.997351</td>\n",
       "      <td>1.208050e+00</td>\n",
       "      <td>1.018467</td>\n",
       "      <td>...</td>\n",
       "      <td>8.272512e-01</td>\n",
       "      <td>8.610998e-01</td>\n",
       "      <td>0.932571</td>\n",
       "      <td>0.842954</td>\n",
       "      <td>0.963523</td>\n",
       "      <td>8.939291e-01</td>\n",
       "      <td>0.886373</td>\n",
       "      <td>0.929633</td>\n",
       "      <td>9.475555e-01</td>\n",
       "      <td>9.404514e-01</td>\n",
       "    </tr>\n",
       "  </tbody>\n",
       "</table>\n",
       "<p>100 rows × 97 columns</p>\n",
       "</div>"
      ],
      "text/plain": [
       "    label         1         2         3         4         5         6  \\\n",
       "0     0.0  0.328544  0.295926  0.302368  0.306474  0.315960  0.298111   \n",
       "1     0.0  0.524646  0.488411  0.535796  0.539319  0.546866  0.600552   \n",
       "2     0.0  0.025632  0.021977  0.003441  0.008151  0.004893  0.000734   \n",
       "3     0.0  0.528392  0.504189  0.549341  0.562989  0.583668  0.630132   \n",
       "4     0.0  0.003764  0.001491  0.000020  0.000585  0.000020  0.000009   \n",
       "..    ...       ...       ...       ...       ...       ...       ...   \n",
       "95    9.0  0.184565  0.198283  0.158985  0.124217  0.122546  0.079935   \n",
       "96    9.0  0.175491  0.196499  0.152277  0.118461  0.111656  0.073782   \n",
       "97    9.0  0.165099  0.160714  0.105237  0.086932  0.075992  0.056739   \n",
       "98    9.0  0.025971  0.022282  0.006616  0.008818  0.005033  0.000753   \n",
       "99    9.0  1.286636  0.901896  0.873940  0.864903  0.857668  0.907252   \n",
       "\n",
       "           7             8         9  ...            87            88  \\\n",
       "0   0.296955  3.722708e-01  0.314483  ...  2.843932e-01  2.450952e-01   \n",
       "1   0.586124  6.600894e-01  0.617452  ...  5.571130e-01  5.865460e-01   \n",
       "2   0.000811  7.983857e-04  0.015689  ...  6.069232e-03  8.411553e-04   \n",
       "3   0.629470  6.743966e-01  0.640655  ...  5.814731e-01  6.037517e-01   \n",
       "4   0.000037  1.798373e-07  0.000247  ...  1.344911e-08  3.163619e-09   \n",
       "..       ...           ...       ...  ...           ...           ...   \n",
       "95  0.102115  1.342427e-01  0.191733  ...  1.758207e-01  1.180868e-01   \n",
       "96  0.086580  1.287686e-01  0.188783  ...  1.627890e-01  1.161351e-01   \n",
       "97  0.070054  9.931240e-02  0.140003  ...  1.178500e-01  1.009946e-01   \n",
       "98  0.000984  1.345627e-03  0.016356  ...  6.771150e-03  9.040401e-04   \n",
       "99  0.997351  1.208050e+00  1.018467  ...  8.272512e-01  8.610998e-01   \n",
       "\n",
       "          89        90        91            92        93        94  \\\n",
       "0   0.290023  0.258127  0.267427  2.454869e-01  0.292687  0.273316   \n",
       "1   0.506429  0.468700  0.532804  5.523669e-01  0.516295  0.555702   \n",
       "2   0.001888  0.001966  0.003625  1.583918e-03  0.001137  0.006484   \n",
       "3   0.513997  0.513376  0.538524  5.690116e-01  0.526544  0.603897   \n",
       "4   0.000004  0.000004  0.000021  2.598876e-08  0.000001  0.000082   \n",
       "..       ...       ...       ...           ...       ...       ...   \n",
       "95  0.105108  0.153294  0.174301  1.106032e-01  0.134059  0.167086   \n",
       "96  0.089024  0.145445  0.173943  1.104476e-01  0.133436  0.148423   \n",
       "97  0.077310  0.114840  0.149634  7.122922e-02  0.103757  0.123481   \n",
       "98  0.001949  0.003541  0.005286  2.457584e-03  0.001752  0.006743   \n",
       "99  0.932571  0.842954  0.963523  8.939291e-01  0.886373  0.929633   \n",
       "\n",
       "              95            96  \n",
       "0   2.835186e-01  2.663480e-01  \n",
       "1   5.585313e-01  5.458970e-01  \n",
       "2   1.529265e-03  7.062619e-03  \n",
       "3   5.930119e-01  5.609126e-01  \n",
       "4   6.886863e-07  7.353280e-07  \n",
       "..           ...           ...  \n",
       "95  1.041358e-01  1.228905e-01  \n",
       "96  1.008449e-01  1.208759e-01  \n",
       "97  8.803814e-02  7.969730e-02  \n",
       "98  3.364267e-03  7.091278e-03  \n",
       "99  9.475555e-01  9.404514e-01  \n",
       "\n",
       "[100 rows x 97 columns]"
      ]
     },
     "execution_count": 137,
     "metadata": {},
     "output_type": "execute_result"
    }
   ],
   "source": [
    "df"
   ]
  },
  {
   "cell_type": "code",
   "execution_count": 138,
   "metadata": {},
   "outputs": [],
   "source": [
    "array=df.iloc[:,1:].values"
   ]
  },
  {
   "cell_type": "code",
   "execution_count": 139,
   "metadata": {},
   "outputs": [],
   "source": [
    "scatter_list=[]\n",
    "for x in range(0,80):\n",
    "    val=array[:,x]\n",
    "    history=array[:,x:x+10]\n",
    "    scatter_list.append(np.stack([val,np.var(history, axis=1)]))\n",
    "datapoint=np.concatenate(scatter_list,axis=1)\n"
   ]
  },
  {
   "cell_type": "code",
   "execution_count": 140,
   "metadata": {},
   "outputs": [],
   "source": [
    "import matplotlib.pyplot as plt\n",
    "import seaborn as sns"
   ]
  },
  {
   "cell_type": "code",
   "execution_count": 141,
   "metadata": {},
   "outputs": [
    {
     "data": {
      "text/plain": [
       "<matplotlib.axes._subplots.AxesSubplot at 0x24dd342b448>"
      ]
     },
     "execution_count": 141,
     "metadata": {},
     "output_type": "execute_result"
    },
    {
     "data": {
      "image/png": "[encoded data removed]",
      "text/plain": [
       "<Figure size 720x720 with 1 Axes>"
      ]
     },
     "metadata": {
      "needs_background": "light"
     },
     "output_type": "display_data"
    }
   ],
   "source": [
    "plt.figure(figsize=(10,10))\n",
    "sns.scatterplot(x=datapoint[0,:],y=datapoint[1,:])"
   ]
  },
  {
   "cell_type": "code",
   "execution_count": 111,
   "metadata": {},
   "outputs": [
    {
     "data": {
      "text/plain": [
       "(8000,)"
      ]
     },
     "execution_count": 111,
     "metadata": {},
     "output_type": "execute_result"
    }
   ],
   "source": [
    "datapoint[0,:].shape"
   ]
  },
  {
   "cell_type": "code",
   "execution_count": 76,
   "metadata": {},
   "outputs": [
    {
     "data": {
      "text/plain": [
       "(100,)"
      ]
     },
     "execution_count": 76,
     "metadata": {},
     "output_type": "execute_result"
    }
   ],
   "source": [
    "np.var(history, axis=1).shape"
   ]
  },
  {
   "cell_type": "code",
   "execution_count": 78,
   "metadata": {},
   "outputs": [
    {
     "data": {
      "text/plain": [
       "(100,)"
      ]
     },
     "execution_count": 78,
     "metadata": {},
     "output_type": "execute_result"
    }
   ],
   "source": [
    "val.shape"
   ]
  },
  {
   "cell_type": "code",
   "execution_count": 79,
   "metadata": {},
   "outputs": [],
   "source": [
    "scatter_point=np.stack([np.var(history, axis=1),val])"
   ]
  },
  {
   "cell_type": "code",
   "execution_count": 80,
   "metadata": {},
   "outputs": [
    {
     "data": {
      "text/plain": [
       "(2, 100)"
      ]
     },
     "execution_count": 80,
     "metadata": {},
     "output_type": "execute_result"
    }
   ],
   "source": [
    "scatter_point.shape"
   ]
  },
  {
   "cell_type": "code",
   "execution_count": 83,
   "metadata": {},
   "outputs": [
    {
     "data": {
      "text/plain": [
       "array([[2.03287528e-02, 1.73600790e-02, 1.06693062e-02, 1.06875849e-02,\n",
       "        1.08133666e-02, 8.56740527e-03, 8.79270264e-03, 7.03460840e-03,\n",
       "        6.78931723e-03, 5.99292032e-03, 5.53044614e-03, 4.36889729e-03,\n",
       "        3.94429952e-03, 4.21435775e-03, 3.52195399e-03, 2.80436094e-03,\n",
       "        2.88039488e-03, 2.28316348e-03, 2.43339099e-03, 1.97113280e-03,\n",
       "        1.60855215e-03, 1.63601818e-03, 1.81144242e-03, 1.74769283e-03,\n",
       "        1.77672490e-03, 1.76873820e-03, 8.64614802e-04, 7.08899389e-04,\n",
       "        6.42057643e-04, 4.44789396e-04, 3.67765583e-04, 4.70294961e-04,\n",
       "        7.52957203e-04, 8.34269840e-04, 8.13778039e-04, 1.05928575e-03,\n",
       "        9.14659772e-04, 8.47233889e-04, 8.67828002e-04, 5.02660401e-04,\n",
       "        5.75698865e-04, 6.47482709e-04, 5.05374644e-04, 3.99735601e-04,\n",
       "        5.11540147e-04, 3.19502150e-04, 3.90096026e-04, 4.98761125e-04,\n",
       "        4.55749822e-04, 4.71282711e-04, 7.15781858e-04, 7.42701637e-04,\n",
       "        1.08027795e-03, 1.32909314e-03, 1.64967587e-03, 1.97256637e-03,\n",
       "        1.86192524e-03, 1.48330916e-03, 1.68792530e-03, 1.49556915e-03,\n",
       "        1.54326220e-03, 1.34126485e-03, 1.28948413e-03, 9.73076840e-04,\n",
       "        1.10998819e-03, 9.91279886e-04, 8.79198877e-04, 7.48049815e-04,\n",
       "        6.65464238e-04, 6.28136370e-04, 5.94537244e-04, 5.29766022e-04,\n",
       "        5.38217540e-04, 5.79012089e-04, 4.35480009e-04, 4.50629098e-04,\n",
       "        4.22702045e-04, 4.06200573e-04, 4.45511967e-04, 4.02279244e-04,\n",
       "        4.38972616e-04, 3.22136303e-04, 3.06513320e-04, 2.91476882e-04,\n",
       "        2.06554294e-04, 1.33818762e-04, 9.84998970e-05, 7.85670615e-05,\n",
       "        7.93964075e-05, 6.32508137e-05, 5.26163211e-05, 4.73347722e-05,\n",
       "        3.99883468e-05, 3.11693652e-05, 2.28236829e-05, 6.97370907e-06,\n",
       "        5.86114070e-06, 4.45018234e-06, 1.29606908e-06, 1.50676601e-07],\n",
       "       [1.28663603e+00, 1.28105489e+00, 8.03156666e-01, 7.96336742e-01,\n",
       "        7.63662615e-01, 7.00333321e-01, 6.50397400e-01, 6.26432385e-01,\n",
       "        5.96200479e-01, 5.87200545e-01, 5.73202110e-01, 5.72349900e-01,\n",
       "        5.70989351e-01, 5.55615034e-01, 5.41893601e-01, 5.28392412e-01,\n",
       "        5.28301813e-01, 5.24645679e-01, 5.20210705e-01, 5.19895594e-01,\n",
       "        5.03873168e-01, 4.98262685e-01, 4.83715248e-01, 4.83189124e-01,\n",
       "        4.73760558e-01, 4.73073310e-01, 4.69925076e-01, 4.64394089e-01,\n",
       "        4.62060570e-01, 4.61781362e-01, 4.18585580e-01, 4.15742813e-01,\n",
       "        4.05485517e-01, 3.98964716e-01, 3.92623032e-01, 3.91221664e-01,\n",
       "        3.71924546e-01, 3.67214856e-01, 3.59882694e-01, 3.48223959e-01,\n",
       "        3.36489438e-01, 3.35710978e-01, 3.28543628e-01, 3.24455860e-01,\n",
       "        3.20352647e-01, 2.80662814e-01, 2.67958821e-01, 2.67304333e-01,\n",
       "        2.32978405e-01, 2.27930255e-01, 2.27508780e-01, 2.26208970e-01,\n",
       "        2.22984631e-01, 2.22616835e-01, 2.19517879e-01, 2.18715520e-01,\n",
       "        2.16339518e-01, 1.84565052e-01, 1.75491389e-01, 1.74362561e-01,\n",
       "        1.70034505e-01, 1.66936623e-01, 1.65099144e-01, 1.57200715e-01,\n",
       "        1.54785300e-01, 1.43973238e-01, 1.34923970e-01, 1.24501321e-01,\n",
       "        1.19426450e-01, 1.12572829e-01, 1.08906599e-01, 1.02139449e-01,\n",
       "        1.00855939e-01, 1.00264493e-01, 7.93162437e-02, 7.76584315e-02,\n",
       "        7.69572328e-02, 7.24276808e-02, 7.22847593e-02, 6.83195736e-02,\n",
       "        6.76405037e-02, 5.86177104e-02, 5.75997766e-02, 5.23180792e-02,\n",
       "        4.72065304e-02, 3.69395214e-02, 3.05922310e-02, 2.59712792e-02,\n",
       "        2.56320310e-02, 2.15280921e-02, 1.91816278e-02, 1.85830889e-02,\n",
       "        1.79413771e-02, 1.59845936e-02, 1.33504056e-02, 8.68058767e-03,\n",
       "        8.02659373e-03, 7.06013776e-03, 3.76384538e-03, 1.12825237e-03]])"
      ]
     },
     "execution_count": 83,
     "metadata": {},
     "output_type": "execute_result"
    }
   ],
   "source": [
    "scatter_point"
   ]
  },
  {
   "cell_type": "code",
   "execution_count": null,
   "metadata": {},
   "outputs": [],
   "source": []
  }
 ],
 "metadata": {
  "kernelspec": {
   "display_name": "Python 3",
   "language": "python",
   "name": "python3"
  },
  "language_info": {
   "codemirror_mode": {
    "name": "ipython",
    "version": 3
   },
   "file_extension": ".py",
   "mimetype": "text/x-python",
   "name": "python",
   "nbconvert_exporter": "python",
   "pygments_lexer": "ipython3",
   "version": "3.7.6"
  }
 },
 "nbformat": 4,
 "nbformat_minor": 4
}
